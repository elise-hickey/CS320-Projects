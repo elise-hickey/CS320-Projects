{
 "cells": [
  {
   "cell_type": "code",
   "execution_count": 1,
   "id": "09cef151-a878-4b6a-9525-00463ed6c4c2",
   "metadata": {},
   "outputs": [],
   "source": [
    "# project: p1\n",
    "# submitter: ejhickey3\n",
    "# partner: none\n",
    "# hours: 15"
   ]
  },
  {
   "cell_type": "code",
   "execution_count": 2,
   "id": "a4e2a952-bd4e-4d34-b463-81f7de93e75f",
   "metadata": {},
   "outputs": [],
   "source": [
    "import json\n",
    "import pandas as pd\n",
    "import os\n",
    "import csv\n",
    "from subprocess import check_output\n",
    "import subprocess\n",
    "import time\n",
    "import numpy as np"
   ]
  },
  {
   "cell_type": "code",
   "execution_count": 3,
   "id": "981ab75a-f78b-4728-9405-6fb9c1be0850",
   "metadata": {},
   "outputs": [
    {
     "data": {
      "text/plain": [
       "float"
      ]
     },
     "execution_count": 3,
     "metadata": {},
     "output_type": "execute_result"
    }
   ],
   "source": [
    "#Q1: what is the type of 7/2?\n",
    "\n",
    "type(7/2)\n"
   ]
  },
  {
   "cell_type": "code",
   "execution_count": 4,
   "id": "c0a2f332-6aac-4103-a0d8-1d812c356ea5",
   "metadata": {},
   "outputs": [
    {
     "data": {
      "text/plain": [
       "True"
      ]
     },
     "execution_count": 4,
     "metadata": {},
     "output_type": "execute_result"
    }
   ],
   "source": [
    "#Q2: what is error?\n",
    "\n",
    "x = 4\n",
    "maximum = 10\n",
    "minimum = 5\n",
    "error = x<=minimum or x>=maximum# True if x is outside the minimum-to-maximum range\n",
    "error\n"
   ]
  },
  {
   "cell_type": "code",
   "execution_count": 5,
   "id": "bccbb910-a8da-4329-810f-9ef98711c020",
   "metadata": {},
   "outputs": [
    {
     "data": {
      "text/plain": [
       "True"
      ]
     },
     "execution_count": 5,
     "metadata": {},
     "output_type": "execute_result"
    }
   ],
   "source": [
    "#Q3: ignoring case, does word end with the suffix \"esque\"?\n",
    "\n",
    "word = \"KAFKAESQUE\"\n",
    "suffix_match = word[-5:].lower() == \"esque\" # .endswith(...) method not allowed for this question! (practice slicing)\n",
    "suffix_match\n",
    "\n"
   ]
  },
  {
   "cell_type": "code",
   "execution_count": 6,
   "id": "ecd8f699-0600-49cb-9b24-be5a98efba9e",
   "metadata": {},
   "outputs": [],
   "source": [
    "def add(x, y=1):\n",
    "    return x + y "
   ]
  },
  {
   "cell_type": "code",
   "execution_count": 7,
   "id": "3934009d-6981-4ccb-99dc-16bfff447ad0",
   "metadata": {},
   "outputs": [
    {
     "data": {
      "text/plain": [
       "7"
      ]
     },
     "execution_count": 7,
     "metadata": {},
     "output_type": "execute_result"
    }
   ],
   "source": [
    "#Q4: what is add(3, 4)?\n",
    "\n",
    "add(3,4)"
   ]
  },
  {
   "cell_type": "code",
   "execution_count": 8,
   "id": "66aa0248-9830-45cd-b371-fbaf36d3adb0",
   "metadata": {},
   "outputs": [
    {
     "data": {
      "text/plain": [
       "10"
      ]
     },
     "execution_count": 8,
     "metadata": {},
     "output_type": "execute_result"
    }
   ],
   "source": [
    "#Q5: what is add(9)?\n",
    "\n",
    "add(9)"
   ]
  },
  {
   "cell_type": "code",
   "execution_count": 9,
   "id": "f910596c-e120-494f-9fe8-42756e7bdc88",
   "metadata": {},
   "outputs": [
    {
     "data": {
      "text/plain": [
       "'positive'"
      ]
     },
     "execution_count": 9,
     "metadata": {},
     "output_type": "execute_result"
    }
   ],
   "source": [
    "#Q6: what is status?\n",
    "\n",
    "x = 4\n",
    "if x < 0: \n",
    "    status = \"negative\"\n",
    "elif x > 0:\n",
    "    status = \"positive\"\n",
    "else:\n",
    "    status = \"zero\"\n",
    "status"
   ]
  },
  {
   "cell_type": "code",
   "execution_count": 10,
   "id": "af2d4b81-7340-4d10-825d-7b4f1c9b523f",
   "metadata": {},
   "outputs": [
    {
     "name": "stdout",
     "output_type": "stream",
     "text": [
      "3\n",
      "4\n",
      "1\n",
      "6\n"
     ]
    }
   ],
   "source": [
    "nums = [3, 4, 1, 6]\n",
    "for x in nums:\n",
    "    print(x)"
   ]
  },
  {
   "cell_type": "code",
   "execution_count": 11,
   "id": "38abdfc6-5b1c-45f4-a2fd-d68ec7a549cc",
   "metadata": {},
   "outputs": [],
   "source": [
    "def smart_count(numbers):\n",
    "    final_sum = 0\n",
    "    for num in numbers:\n",
    "        \n",
    "        if type(num) == int:\n",
    "            if num < 0:\n",
    "                break\n",
    "            if num >= 0:\n",
    "                if num <= 10:\n",
    "                    final_sum = final_sum + num              \n",
    "    return final_sum"
   ]
  },
  {
   "cell_type": "code",
   "execution_count": 12,
   "id": "884410e5-1f26-4154-8eef-9ecf28fdfd34",
   "metadata": {
    "tags": []
   },
   "outputs": [
    {
     "data": {
      "text/plain": [
       "14"
      ]
     },
     "execution_count": 12,
     "metadata": {},
     "output_type": "execute_result"
    }
   ],
   "source": [
    "#Q7: what is smart_count(nums)?\n",
    "\n",
    "smart_count(nums)"
   ]
  },
  {
   "cell_type": "code",
   "execution_count": 13,
   "id": "0ced6c1e-d0c9-4b69-9aba-345dec849a34",
   "metadata": {},
   "outputs": [
    {
     "data": {
      "text/plain": [
       "6"
      ]
     },
     "execution_count": 13,
     "metadata": {},
     "output_type": "execute_result"
    }
   ],
   "source": [
    "#Q8: what is smart_count([2, 1, 11, 3, 15, -1, 8, 2])\n",
    "\n",
    "smart_count([2, 1, 11, 3, 15, -1, 8, 2])"
   ]
  },
  {
   "cell_type": "code",
   "execution_count": 14,
   "id": "bb79521a-fe93-4c2f-8d53-8d081a0f014d",
   "metadata": {},
   "outputs": [],
   "source": [
    "header = [\"A\", \"B\", \"C\"]\n",
    "\n",
    "coord1 = {\"x\": 8, \"y\": 5}\n",
    "coord2 = {\"x\": 9, \"y\": 2}\n",
    "coord3 = {\"x\": 3, \"y\": 1}\n",
    "\n",
    "rows = [\n",
    "    [1, 6, coord1],\n",
    "    [3, 4, coord2],\n",
    "    [5, 2, coord3],\n",
    "]\n",
    "\n",
    "coord3[\"z\"] = 3.14"
   ]
  },
  {
   "cell_type": "code",
   "execution_count": 15,
   "id": "007b1a27-d546-4db5-ae7d-7181ba1cc30c",
   "metadata": {},
   "outputs": [
    {
     "data": {
      "text/plain": [
       "[[1, 6, {'x': 8, 'y': 5}],\n",
       " [3, 4, {'x': 9, 'y': 2}],\n",
       " [5, 2, {'x': 3, 'y': 1, 'z': 3.14}]]"
      ]
     },
     "execution_count": 15,
     "metadata": {},
     "output_type": "execute_result"
    }
   ],
   "source": [
    "#Q9: after inserting a \"z\" key in coord3 (with coord3[\"z\"] = 3.14), what is rows?\n",
    "\n",
    "rows"
   ]
  },
  {
   "cell_type": "code",
   "execution_count": 16,
   "id": "7d9a3e68-7c2f-4ccb-8b21-93a99d98cd16",
   "metadata": {},
   "outputs": [
    {
     "data": {
      "text/plain": [
       "8"
      ]
     },
     "execution_count": 16,
     "metadata": {},
     "output_type": "execute_result"
    }
   ],
   "source": [
    "#Q10: what is the value associated with the \"x\" key of the dict in the last position of the first list?\n",
    "\n",
    "rows[0][-1][\"x\"]"
   ]
  },
  {
   "cell_type": "code",
   "execution_count": 17,
   "id": "b6368a73-47dd-489c-9fb7-52a19a2bbc69",
   "metadata": {},
   "outputs": [
    {
     "data": {
      "text/plain": [
       "[[1, 6, {'x': 8, 'y': 5}],\n",
       " [3, 9999, {'x': 9, 'y': 2}],\n",
       " [5, 2, {'x': 3, 'y': 1, 'z': 3.14}]]"
      ]
     },
     "execution_count": 17,
     "metadata": {},
     "output_type": "execute_result"
    }
   ],
   "source": [
    "#Q11: what is rows after running the following?\n",
    "\n",
    "import copy\n",
    "v2 = copy.copy(rows)\n",
    "v2[0] = 8888    # first change\n",
    "v2[1][1] = 9999 # second change\n",
    "\n",
    "rows"
   ]
  },
  {
   "cell_type": "code",
   "execution_count": 18,
   "id": "c2614246-a185-4fcb-a055-0080b2586777",
   "metadata": {},
   "outputs": [],
   "source": [
    "def column_values(table):\n",
    "    header = [\"A\", \"B\", \"C\"]\n",
    "    column_vals = []\n",
    "    for row in table:\n",
    "        column_vals.append(row[header.index(\"B\")])\n",
    "    return column_vals"
   ]
  },
  {
   "cell_type": "code",
   "execution_count": 19,
   "id": "374a6316-4d31-45db-bf20-23e876d00c1f",
   "metadata": {},
   "outputs": [],
   "source": [
    "def add_vals(numbers):\n",
    "    final_sum = 0\n",
    "    for num in numbers:\n",
    "        \n",
    "        if type(num) == int:\n",
    "            final_sum = final_sum + num              \n",
    "    return final_sum"
   ]
  },
  {
   "cell_type": "code",
   "execution_count": 20,
   "id": "f04b3b43-eed7-49bd-abd4-62986a65e07c",
   "metadata": {},
   "outputs": [
    {
     "data": {
      "text/plain": [
       "10007"
      ]
     },
     "execution_count": 20,
     "metadata": {},
     "output_type": "execute_result"
    }
   ],
   "source": [
    "#Q12: if we imagine the list of lists structure referenced by rows as a table, with column names in header,\n",
    "#what is the sum of values in the \"B\" column?\n",
    "\n",
    "add_vals(column_values(rows))"
   ]
  },
  {
   "cell_type": "code",
   "execution_count": 21,
   "id": "e5722e41-a61d-43c2-988e-4d6a2e13a1a2",
   "metadata": {},
   "outputs": [],
   "source": [
    "def get_column_b(row):\n",
    "    return row[header.index(\"B\")]\n",
    "\n",
    "rows.sort(key=get_column_b)"
   ]
  },
  {
   "cell_type": "code",
   "execution_count": 22,
   "id": "8ffeb20b-a5c0-4edb-8f11-6efe7270694c",
   "metadata": {},
   "outputs": [
    {
     "data": {
      "text/plain": [
       "[[5, 2, {'x': 3, 'y': 1, 'z': 3.14}],\n",
       " [1, 6, {'x': 8, 'y': 5}],\n",
       " [3, 9999, {'x': 9, 'y': 2}]]"
      ]
     },
     "execution_count": 22,
     "metadata": {},
     "output_type": "execute_result"
    }
   ],
   "source": [
    "#Q13: what is rows after we sort it in-place by the \"B\" column, ascending?\n",
    "rows"
   ]
  },
  {
   "cell_type": "code",
   "execution_count": 23,
   "id": "b97db87f-6b11-4f08-afca-20dceea67542",
   "metadata": {},
   "outputs": [],
   "source": [
    "f = open(\"usd.json\")\n",
    "data = f.read()\n",
    "f.close()"
   ]
  },
  {
   "cell_type": "code",
   "execution_count": 24,
   "id": "2b85b201-3211-419f-9f94-4bd414222239",
   "metadata": {},
   "outputs": [
    {
     "name": "stdout",
     "output_type": "stream",
     "text": [
      "<class 'str'>\n",
      "{\"eur\":{\"code\":\"EUR\",\"alphaCode\":\"EUR\",\"numericCode\":\"978\",\"name\":\"Euro\",\"rate\":0.98535489535028,\"date\":\"Tue, 13 Sep 2022 11:55:01 GMT\",\"inverseRate\":1.0148627714936},\"gbp\":{\"code\":\"GBP\",\"alphaCode\":\"GBP\",\"numericCode\":\"826\",\"name\":\"U.K. Pound Sterling\",\"rate\":0.85438980693642,\"date\":\"Tue, 13 Sep 20...\n"
     ]
    }
   ],
   "source": [
    "print(type(data))\n",
    "print(data[:300] + \"...\")"
   ]
  },
  {
   "cell_type": "code",
   "execution_count": 25,
   "id": "238e596c-3543-4659-8d18-0fc9ca6a4e81",
   "metadata": {},
   "outputs": [],
   "source": [
    "f = open(\"usd.json\")\n",
    "conversions = json.load(f)\n",
    "f.close()"
   ]
  },
  {
   "cell_type": "code",
   "execution_count": 26,
   "id": "e3ffa95c-f71b-47ee-bd77-8909091b4660",
   "metadata": {},
   "outputs": [
    {
     "data": {
      "text/plain": [
       "394.14195814011197"
      ]
     },
     "execution_count": 26,
     "metadata": {},
     "output_type": "execute_result"
    }
   ],
   "source": [
    "#Q14: say you're going on vacation to Europe with 400 US dollars; how many Euros can you get at the current exchange rate?\n",
    "\n",
    "conversions[\"eur\"][\"rate\"] * 400"
   ]
  },
  {
   "cell_type": "code",
   "execution_count": 27,
   "id": "fa8c3d11-1c5d-48b1-97f6-7b4abac98e55",
   "metadata": {},
   "outputs": [],
   "source": [
    "def divide(numerator, denominator):\n",
    "    if denominator == 0:\n",
    "        return float(\"nan\")\n",
    "    else:\n",
    "        return numerator / denominator"
   ]
  },
  {
   "cell_type": "code",
   "execution_count": 28,
   "id": "c339c816-3724-4fc4-be02-a0f57b7f131d",
   "metadata": {},
   "outputs": [
    {
     "data": {
      "text/plain": [
       "1.5"
      ]
     },
     "execution_count": 28,
     "metadata": {},
     "output_type": "execute_result"
    }
   ],
   "source": [
    "#Q15: what is divide(3, 2)?\n",
    "\n",
    "divide(3,2)"
   ]
  },
  {
   "cell_type": "code",
   "execution_count": 29,
   "id": "9466bde5-a1e7-40ac-aae8-7503906f8a2d",
   "metadata": {},
   "outputs": [
    {
     "data": {
      "text/plain": [
       "nan"
      ]
     },
     "execution_count": 29,
     "metadata": {},
     "output_type": "execute_result"
    }
   ],
   "source": [
    "#Q16: what is divide(-3, 0)?\n",
    "\n",
    "divide(-3,0)"
   ]
  },
  {
   "cell_type": "code",
   "execution_count": 30,
   "id": "1eaaba85-d836-4306-b54b-89d600ccfde8",
   "metadata": {},
   "outputs": [],
   "source": [
    "years = {}\n",
    "\n",
    "for i in os.listdir(\"home-computers\"):\n",
    "    if i[-4:] == \".csv\":\n",
    "        df = (pd.read_csv(os.path.join(\"home-computers\", i), skiprows=1)).set_index(\"Geographic Area Name\")\n",
    "        years[int(i[7:11])] = df\n"
   ]
  },
  {
   "cell_type": "code",
   "execution_count": 31,
   "id": "813f8da6-544e-4b9a-96cd-866cb38704eb",
   "metadata": {},
   "outputs": [
    {
     "data": {
      "text/plain": [
       "[2013, 2014, 2015, 2016, 2017, 2018]"
      ]
     },
     "execution_count": 31,
     "metadata": {},
     "output_type": "execute_result"
    }
   ],
   "source": [
    "#Q17 what are the keys in years?\n",
    "\n",
    "keys = list(years.keys())\n",
    "keys.sort()\n",
    "keys"
   ]
  },
  {
   "cell_type": "code",
   "execution_count": 32,
   "id": "67bd5957-4c50-424e-9f1f-44f075fa0f5e",
   "metadata": {},
   "outputs": [
    {
     "data": {
      "text/plain": [
       "2371960"
      ]
     },
     "execution_count": 32,
     "metadata": {},
     "output_type": "execute_result"
    }
   ],
   "source": [
    "#Q18: how many households did Wisconsin have in 2018?\n",
    "\n",
    "df_2 = years[2018]\n",
    "df_2.loc[\"Wisconsin\", \"Estimate!!Total\"]"
   ]
  },
  {
   "cell_type": "code",
   "execution_count": 33,
   "id": "aa5544bb-3e86-4a6e-95eb-455574202b8c",
   "metadata": {},
   "outputs": [
    {
     "data": {
      "text/plain": [
       "10285814"
      ]
     },
     "execution_count": 33,
     "metadata": {},
     "output_type": "execute_result"
    }
   ],
   "source": [
    "#Q19: how many total households in the US are estimated to not have any computer at home? (2018)\n",
    "\n",
    "total_s = df_2[\"Estimate!!Total!!No Computer\"].sum()\n",
    "total_s"
   ]
  },
  {
   "cell_type": "code",
   "execution_count": 34,
   "id": "721ee01f-92c3-4864-a84f-adb43be2d21e",
   "metadata": {},
   "outputs": [
    {
     "data": {
      "text/plain": [
       "0.12375641594322287"
      ]
     },
     "execution_count": 34,
     "metadata": {},
     "output_type": "execute_result"
    }
   ],
   "source": [
    "#Q20: what is the biggest per-state margin of error for \"No Computer\", as a fraction of the total estimate? (2018)\n",
    "\n",
    "no_comp = df_2[\"Estimate!!Total!!No Computer\"]\n",
    "no_comp_err = df_2[\"Margin of Error!!Total!!No Computer\"]\n",
    "\n",
    "err_ratio = no_comp_err / no_comp\n",
    "    \n",
    "err_ratio.max()"
   ]
  },
  {
   "cell_type": "code",
   "execution_count": 35,
   "id": "fdf7eca9-f85a-41dd-91a5-5ff4ab1acbbf",
   "metadata": {},
   "outputs": [
    {
     "data": {
      "text/plain": [
       "{'Illinois': 8.524143737625552,\n",
       " 'Indiana': 9.463486214247707,\n",
       " 'Iowa': 9.468929459023103,\n",
       " 'Michigan': 8.936374942955922,\n",
       " 'Minnesota': 7.491847623005652,\n",
       " 'Wisconsin': 9.582497175331794}"
      ]
     },
     "execution_count": 35,
     "metadata": {},
     "output_type": "execute_result"
    }
   ],
   "source": [
    "#Q21: for Wisconsin and adjacent states, what percent of households are estimated to be without a computer? (2018)\n",
    "#States: Illinois, Indiana, Iowa, Michigan, Minnesota, Wisconsin.\n",
    "\n",
    "mws_wo_comp = {}\n",
    "mws = [ \"Illinois\" , \"Indiana\", \"Iowa\", \"Michigan\", \"Minnesota\", \"Wisconsin\"]\n",
    "for state in mws:\n",
    "    est_no_comp = df_2.loc[state, \"Estimate!!Total!!No Computer\"]\n",
    "    est_total = df_2.loc[state, \"Estimate!!Total\"]\n",
    "    mws_wo_comp[state] = (df_2.loc[state, \"Estimate!!Total!!No Computer\"] / df_2.loc[state, \"Estimate!!Total\"])*100\n",
    "mws_wo_comp"
   ]
  },
  {
   "cell_type": "code",
   "execution_count": 36,
   "id": "fd2117d0-6f99-4ce3-b1b4-86368072f3aa",
   "metadata": {},
   "outputs": [
    {
     "data": {
      "text/plain": [
       "<AxesSubplot:xlabel='Geographic Area Name', ylabel='% Households w/o Computer'>"
      ]
     },
     "execution_count": 36,
     "metadata": {},
     "output_type": "execute_result"
    },
    {
     "data": {
      "image/png": "[encoded data removed]",
      "text/plain": [
       "<Figure size 640x480 with 1 Axes>"
      ]
     },
     "metadata": {},
     "output_type": "display_data"
    }
   ],
   "source": [
    "#Q22: same question, but answer with a bar plot.\n",
    "\n",
    "ax = ((df_2[\"Estimate!!Total!!No Computer\"][mws] / df_2[ \"Estimate!!Total\"][mws])*100).plot.bar()\n",
    "ax.set_ylabel(\"% Households w/o Computer\")\n",
    "ax"
   ]
  },
  {
   "cell_type": "code",
   "execution_count": 37,
   "id": "a24608cf-c72e-40ae-9bf2-d09765a7745e",
   "metadata": {},
   "outputs": [
    {
     "data": {
      "text/plain": [
       "Text(0.5, 0, 'Year')"
      ]
     },
     "execution_count": 37,
     "metadata": {},
     "output_type": "execute_result"
    },
    {
     "data": {
      "image/png": "[encoded data removed]",
      "text/plain": [
       "<Figure size 640x480 with 1 Axes>"
      ]
     },
     "metadata": {},
     "output_type": "display_data"
    }
   ],
   "source": [
    "#Q23: how as the number of WI households without computers changed over recent years?\n",
    "\n",
    "df_2013 = years[2013]\n",
    "df_2014 = years[2014]\n",
    "df_2015 = years[2015]\n",
    "df_2016 = years[2016]\n",
    "df_2017 = years[2017]\n",
    "df_2018 = years[2018]\n",
    "\n",
    "dfs = [df_2013, df_2014, df_2015, df_2016, df_2017, df_2018]\n",
    "\n",
    "value_by_year = []\n",
    "for idf in dfs:\n",
    "        value_by_year.append(idf[\"Estimate!!Total!!No Computer\"][\"Wisconsin\"])\n",
    "        \n",
    "value_year = {}\n",
    "for i in range(len(keys)):\n",
    "        value_year[keys[i]] = value_by_year[i] / 1000\n",
    "        \n",
    "year_val = pd.Series(value_year)\n",
    "comp_ax = year_val.plot.line()\n",
    "comp_ax.set(yticks= [0,100,200,300])\n",
    "comp_ax.set_ylabel(\"WI Households Without Computers (thousands)\")\n",
    "comp_ax.set_xlabel(\"Year\")"
   ]
  },
  {
   "cell_type": "code",
   "execution_count": 38,
   "id": "92dfee5e-6dde-4cb7-b588-d4a41b85b872",
   "metadata": {},
   "outputs": [
    {
     "data": {
      "text/plain": [
       "[[<matplotlib.axis.XTick at 0x7faa9dfbdff0>,\n",
       "  <matplotlib.axis.XTick at 0x7faa9dfbdfc0>,\n",
       "  <matplotlib.axis.XTick at 0x7faa9dfce8c0>,\n",
       "  <matplotlib.axis.XTick at 0x7faa9dfcee30>,\n",
       "  <matplotlib.axis.XTick at 0x7faa9dfcf580>]]"
      ]
     },
     "execution_count": 38,
     "metadata": {},
     "output_type": "execute_result"
    },
    {
     "data": {
      "image/png": "[encoded data removed]",
      "text/plain": [
       "<Figure size 640x480 with 1 Axes>"
      ]
     },
     "metadata": {},
     "output_type": "display_data"
    }
   ],
   "source": [
    "#Q24: what is the relationship between household with smartphones and those with tablets? (2018)\n",
    "#\"Estimate!!Total!!Has one or more types of computing devices!!Smartphone\"\n",
    "#\"Estimate!!Total!!Has one or more types of computing devices!!Tablet or other portable wireless computer\"\n",
    "\n",
    "plot = df_2018[[\"Estimate!!Total!!Has one or more types of computing devices!!Smartphone\",\"Estimate!!Total!!Has one or more types of computing devices!!Tablet or other portable wireless computer\"]] / 1000000\n",
    "phone_tablet = plot.plot.scatter(x = \"Estimate!!Total!!Has one or more types of computing devices!!Smartphone\", y = \"Estimate!!Total!!Has one or more types of computing devices!!Tablet or other portable wireless computer\" )\n",
    "phone_tablet.set_xlabel(\"Smartphones (millions)\")\n",
    "phone_tablet.set_ylabel(\"Tablets (millions)\")\n",
    "phone_tablet.set(xticks= [0.0, 2.5,5.0,7.5, 10.0])"
   ]
  },
  {
   "cell_type": "code",
   "execution_count": 39,
   "id": "3fb2ea84-4946-4335-8e4e-8fe619223376",
   "metadata": {},
   "outputs": [
    {
     "name": "stderr",
     "output_type": "stream",
     "text": [
      "Previous HEAD position was 4ec7d2a0 Started working on documentation.\n",
      "Switched to branch 'main'\n"
     ]
    },
    {
     "data": {
      "text/plain": [
       "'commit 660994efc761efdfd49ca442b73f6712dc77b6cf'"
      ]
     },
     "execution_count": 39,
     "metadata": {},
     "output_type": "execute_result"
    }
   ],
   "source": [
    "#Q25: what is the first line of output from git log when run in the flask repo directory?\n",
    "check_output([\"git\", \"checkout\", \"main\"], cwd=\"flask\")\n",
    "output = check_output([\"git\", \"log\"], cwd=\"flask\", encoding=\"utf-8\" ).split('\\n')\n",
    "output[0]"
   ]
  },
  {
   "cell_type": "code",
   "execution_count": 40,
   "id": "9b2fffe7-b3f2-43d4-888a-0da30c656dc8",
   "metadata": {},
   "outputs": [
    {
     "data": {
      "text/plain": [
       "['7b5015010bc8c2a2d56c7c50b37e5b9facdad102',\n",
       " '40e0024d7b87150ed694829a5335bd2435962225',\n",
       " '6dd92ae4b32c336564231e10db12458a8b9261ca',\n",
       " '1246f4088a4fdc00a79f8029ff5d77bfe4fc9b14',\n",
       " 'c4f5c2fb9afc1679c085500830bd53fab93ad885',\n",
       " '1d8432ebfd1637eacab79a15e9b7963bf061371c',\n",
       " 'fc94599285aa1aec50b3c9426697249e55edda0a',\n",
       " 'c33675f0251071ea47ce166b81ce8c637842f091',\n",
       " '2d9bb692728fd76b19e467499caa4f5fcb07aede',\n",
       " 'ca520fb7e4c29afccc637e61c11429a0f3e8d5ad',\n",
       " '08f1f0dc32004fae01cf96d1eed84e6461e698e5',\n",
       " '8009bd986940378bba1399dbfce90d03e441467b',\n",
       " 'a42728568e18bedf588be2357b56021ab85b9fad',\n",
       " '959b5df00431c436474c5abca304e631c0de7721',\n",
       " '4affedec356ad8c9e6a107578f03fc7f5c615064',\n",
       " 'de03143f6ecf9a36dd32f16f07309c64d4de03b0',\n",
       " 'a01e8b49ca66608f0bd46134ff02deeb5724c799',\n",
       " '36071ca1f42a26ef327e9d14e4909a8c92cd4fae',\n",
       " '51c9829a9cdfa2bf301431f686d7a404cc7c5083',\n",
       " '2f5a4f8dbc832b0daebcd66ea8b3969589191fa7',\n",
       " '03148dba6b26a2694da1d466584f50189c52e7b3',\n",
       " 'ef524f2cfd65377b3b9ce896e7a710472b13c0f6',\n",
       " 'f2dc38cda61f76c64b97ab9f730accc986a4b188',\n",
       " '03168a5d53457fdb8676a4ac9fca0f76a23c6852',\n",
       " '0b8e01b4450d0ba8cb65751d866568fddc155fa4',\n",
       " '6a3a046f55755f0691568431e68a8bfea8d89df0',\n",
       " 'd78b04a3fca8d8887382606897d4a97e55062fda',\n",
       " '4671429a509094f36e2294055340197091d39979',\n",
       " '4e7aa9e7f7a86ee0ea4b6801694c13151518cb52',\n",
       " '85ca089dde8814c4a42ad4574cddce25d60e5e25',\n",
       " '8171da88a49eba769d313a51591ee8575be59762',\n",
       " 'df929c6c77ea5490a969275e45075c29711a498c',\n",
       " '574e81f9c8bbdc41958e1e7a7613633b091101f8',\n",
       " '1fff3e598126a084348ec2c112fdd3bc6b9a1ee0',\n",
       " '05f36c7f7e2df36ee28f90d99632162579b1287c',\n",
       " '4e1b3e1134eb478563bc434d794085d0a412cb84',\n",
       " '8e9bd5f009bb8756a2a7d76a4b792323eeee49d6',\n",
       " '9dfab582d065521e9350327801ed2c5ced1c8fa1',\n",
       " '3d719f35f5c1ee4ce3dc01fb2167ef49c0180cf6',\n",
       " '7d6b8e9ab3e738d69e39ad53a7c0f6a552d5284a',\n",
       " 'a9d4ea81da28ee9c894bf9d45adc4cfa9d52fddc',\n",
       " '727c701686c18c4a27ca523eb0c5862d497be24e',\n",
       " '4edec48b74dbb9d571e927b69b24c30ec0624975',\n",
       " '625eba4bb403296a8bbc1e72cc9cf4a5126f6c02',\n",
       " '4aa76212d1be9b17a57249549c2a73fb10b6cda8',\n",
       " '3b36bef2e6165bb4dad73d17f23ee1879e99f497',\n",
       " '44b42e0fbd93d86e0f4e929bda8e5fb63e81035d',\n",
       " '4ec7d2a0d8eac4f915dc0d38a886cd57045bb0c4',\n",
       " 'b15ad394279fc3b7f998fa56857f334a7c0156f6',\n",
       " '33850c0ebd23ae615e6823993d441f46d80b1ff0']"
      ]
     },
     "execution_count": 40,
     "metadata": {},
     "output_type": "execute_result"
    }
   ],
   "source": [
    "#Q26: What are the commit numbers of the 50 earliest commits?\n",
    "\n",
    "commit_nums = []\n",
    "for string in output:\n",
    "    if string[0:6] == \"commit\":\n",
    "        commit_nums.append(string[7:])\n",
    "\n",
    "commit_nums[-50:]"
   ]
  },
  {
   "cell_type": "code",
   "execution_count": 41,
   "id": "13a6d97c-7407-4ff5-b512-df3291951bcd",
   "metadata": {},
   "outputs": [
    {
     "name": "stderr",
     "output_type": "stream",
     "text": [
      "Note: switching to '4ec7d2a0d8eac4f915dc0d38a886cd57045bb0c4'.\n",
      "\n",
      "You are in 'detached HEAD' state. You can look around, make experimental\n",
      "changes and commit them, and you can discard any commits you make in this\n",
      "state without impacting any branches by switching back to a branch.\n",
      "\n",
      "If you want to create a new branch to retain commits you create, you may\n",
      "do so (now or later) by using -c with the switch command. Example:\n",
      "\n",
      "  git switch -c <new-branch-name>\n",
      "\n",
      "Or undo this operation with:\n",
      "\n",
      "  git switch -\n",
      "\n",
      "Turn off this advice by setting config variable advice.detachedHead to false\n",
      "\n",
      "HEAD is now at 4ec7d2a0 Started working on documentation.\n"
     ]
    },
    {
     "data": {
      "text/plain": [
       "\"\\n                        // Flask //\\n\\n     because a pocket knife is not the only thing that\\n                    might come in handy\\n\\n\\n    ~ What is Flask?\\n\\n      Flask is a microframework for Python based on Werkzeug\\n      and Jinja2.  It's intended for small scale applications\\n      and was development with best intentions in mind.\\n\\n   ~ Is it ready?\\n\\n      Nope, this is still work in progress, but I am happy to\\n      accept patches and improvements already.\\n\""
      ]
     },
     "execution_count": 41,
     "metadata": {},
     "output_type": "execute_result"
    }
   ],
   "source": [
    "#Q27: what did the README file contain after the 3rd commit?\n",
    "\n",
    "check_output([\"git\", \"checkout\", commit_nums[-3]], cwd= \"flask\")\n",
    "f= open(\"flask/README\", encoding=\"utf-8\")\n",
    "data = f.read()\n",
    "f.close()\n",
    "\n",
    "data"
   ]
  },
  {
   "cell_type": "code",
   "execution_count": 42,
   "id": "6e64c8cc-fc8d-4b6f-9e71-102842176b2e",
   "metadata": {},
   "outputs": [
    {
     "data": {
      "text/plain": [
       "{'pallets': 204,\n",
       " 'pgjones': 14,\n",
       " 'greyli': 42,\n",
       " 'ThiefMaster': 11,\n",
       " 'jeffwidman': 8,\n",
       " 'garenchan': 8,\n",
       " 'davidism': 45,\n",
       " 'dawran6': 7,\n",
       " 'untitaker': 20,\n",
       " 'lord63-forks': 5,\n",
       " 'methane': 5,\n",
       " 'Winnetou': 6,\n",
       " 'defuz': 6,\n",
       " 'ThomasWaldmann': 13,\n",
       " 'SimonSapin': 11}"
      ]
     },
     "execution_count": 42,
     "metadata": {},
     "output_type": "execute_result"
    }
   ],
   "source": [
    "#Q28: how many pull requests were merged from each GitHub user? Only output users who appear 5 or more times.\n",
    "\n",
    "user_pulls = {}\n",
    "useful_strs = []\n",
    "for string in output:\n",
    "    if string.find(\"Merge pull request\") != -1:\n",
    "        if string.find(\"/\")!= -1:\n",
    "            listed_string = string.split(\" \")\n",
    "            useful_strs.append(listed_string[-1][0:listed_string[-1].index(\"/\")])\n",
    "\n",
    "for name in useful_strs:\n",
    "    if name not in user_pulls:\n",
    "        user_pulls[name] = 0\n",
    "    if name in user_pulls:\n",
    "        user_pulls[name] += 1      \n",
    "        \n",
    "irr_users = []\n",
    "for user in user_pulls:\n",
    "    if user_pulls[user] < 5:\n",
    "        irr_users.append(user)\n",
    "\n",
    "for user in irr_users:\n",
    "    del user_pulls[user]\n",
    "    \n",
    "user_pulls"
   ]
  },
  {
   "cell_type": "code",
   "execution_count": 43,
   "id": "bfe2ad61-4a0c-4cd4-9cfd-95794b4dcec6",
   "metadata": {},
   "outputs": [
    {
     "data": {
      "text/plain": [
       "'ERROR: unknown command \"instal\" - maybe you meant \"install\"\\n'"
      ]
     },
     "execution_count": 43,
     "metadata": {},
     "output_type": "execute_result"
    }
   ],
   "source": [
    "#Q29: what is the output of pip3 instal? (yes, the mispelling was intentional)\n",
    "try:\n",
    "    msg = check_output([\"pip3\", \"instal\"], stderr=subprocess.STDOUT)\n",
    "except subprocess.CalledProcessError as e:\n",
    "    msg = e.output\n",
    "\n",
    "str_output = str(msg, encoding=\"utf-8\")\n",
    "str_output"
   ]
  },
  {
   "cell_type": "code",
   "execution_count": 44,
   "id": "17b428a9-a11a-4923-b7f1-be0b654b9d7e",
   "metadata": {},
   "outputs": [
    {
     "data": {
      "text/plain": [
       "[[<matplotlib.axis.YTick at 0x7faa9dc61480>,\n",
       "  <matplotlib.axis.YTick at 0x7faa9dc60d00>,\n",
       "  <matplotlib.axis.YTick at 0x7faa9dc60460>,\n",
       "  <matplotlib.axis.YTick at 0x7faa9dcbd330>,\n",
       "  <matplotlib.axis.YTick at 0x7faa9dcbd8d0>,\n",
       "  <matplotlib.axis.YTick at 0x7faa9dcbe020>]]"
      ]
     },
     "execution_count": 44,
     "metadata": {},
     "output_type": "execute_result"
    },
    {
     "data": {
      "image/png": "[encoded data removed]",
      "text/plain": [
       "<Figure size 640x480 with 1 Axes>"
      ]
     },
     "metadata": {},
     "output_type": "display_data"
    }
   ],
   "source": [
    "#Q30: what is faster for looping over a DataFrame, iterrows or itertuples?\n",
    "\n",
    "def rand_df(rows):\n",
    "    return pd.DataFrame(np.random.randint(10, size=(rows, 4)),\n",
    "                        columns=[\"A\", \"B\", \"C\", \"D\"],\n",
    "                        index=[f\"r{i}\" for i in range(1, rows+1)])\n",
    "\n",
    "amount_rows = [1000, 2000, 3000, 4000,5000]\n",
    "row_times = {}\n",
    "tuple_times = {}\n",
    "for val in amount_rows:\n",
    "    r_df = rand_df(val)\n",
    "    t0 = time.time()\n",
    "    for row in r_df.iterrows():\n",
    "        pass\n",
    "    t1 = time.time()\n",
    "    row_time = t1-t0 \n",
    "    row_times[val] = row_time*1000\n",
    "    t2 = time.time()\n",
    "    for row in r_df.itertuples():\n",
    "        pass\n",
    "    t3 = time.time()\n",
    "    tuple_time = t3-t2\n",
    "    tuple_times[val] = tuple_time*1000\n",
    "    \n",
    "srs_tuple = pd.Series(tuple_times)\n",
    "srs_row = pd.Series(row_times)\n",
    "df_tuple = pd.DataFrame(srs_tuple, columns = [\"Tuple\"])\n",
    "df_row = pd.DataFrame(srs_row, columns = [\"Row\"])\n",
    "\n",
    "combined = pd.concat([df_row, df_tuple], axis=1, join='inner')\n",
    "result = combined.plot.line()\n",
    "result.set_xlabel(\"Rows\")\n",
    "result.set_ylabel(\"Milliseconds\")\n",
    "result.set(xticks= [1000,2000,3000,4000,5000])\n",
    "result.set(yticks= [25,50,75,100,125,150])"
   ]
  },
  {
   "cell_type": "code",
   "execution_count": 45,
   "id": "75765647-8046-4498-980f-9c082b289d6b",
   "metadata": {},
   "outputs": [
    {
     "data": {
      "text/plain": [
       "[[<matplotlib.axis.YTick at 0x7faa9db6a530>,\n",
       "  <matplotlib.axis.YTick at 0x7faa9db69db0>,\n",
       "  <matplotlib.axis.YTick at 0x7faa9db69450>,\n",
       "  <matplotlib.axis.YTick at 0x7faa9db9a950>,\n",
       "  <matplotlib.axis.YTick at 0x7faa9db9af80>,\n",
       "  <matplotlib.axis.YTick at 0x7faa9db9b040>,\n",
       "  <matplotlib.axis.YTick at 0x7faa9db9a110>,\n",
       "  <matplotlib.axis.YTick at 0x7faa9db982b0>]]"
      ]
     },
     "execution_count": 45,
     "metadata": {},
     "output_type": "execute_result"
    },
    {
     "data": {
      "image/png": "[encoded data removed]",
      "text/plain": [
       "<Figure size 640x480 with 1 Axes>"
      ]
     },
     "metadata": {},
     "output_type": "display_data"
    }
   ],
   "source": [
    "#Q31: what is faster, loc, or at?\n",
    "\n",
    "amount_rows = [1000, 2000, 3000, 4000,5000]\n",
    "loc_times = {}\n",
    "at_times = {}\n",
    "for val in amount_rows:\n",
    "    n_df = rand_df(val)\n",
    "    t0 = time.time()\n",
    "    total_loc = 0\n",
    "    for idx in n_df.index:\n",
    "        for col in n_df.columns:\n",
    "            total_loc += n_df.loc[idx, col]     \n",
    "    t1 = time.time()\n",
    "    loc_time = t1-t0 \n",
    "    loc_times[val] = loc_time*1000\n",
    "    t2 = time.time()\n",
    "    total_at = 0\n",
    "    for idx in n_df.index:\n",
    "        for col in n_df.columns:\n",
    "            total_at += n_df.at[idx, col] \n",
    "    t3 = time.time()\n",
    "    at_time = t3-t2\n",
    "    at_times[val] = at_time*1000\n",
    "    \n",
    "srs_loc = pd.Series(loc_times)\n",
    "srs_at = pd.Series(at_times)\n",
    "df_loc = pd.DataFrame(srs_loc, columns = [\".loc\"])\n",
    "df_at = pd.DataFrame(srs_at, columns = [\".at\"])\n",
    "\n",
    "combined_locat = pd.concat([df_loc, df_at], axis=1, join='inner')\n",
    "result_locat = combined_locat.plot.line()\n",
    "result_locat.set_xlabel(\"Rows\")\n",
    "result_locat.set_ylabel(\"Milliseconds\")\n",
    "result_locat.set(xticks= [1000,2000,3000,4000,5000])\n",
    "result_locat.set(yticks= [25,50,75,100,125,150,175,200])"
   ]
  },
  {
   "cell_type": "code",
   "execution_count": 46,
   "id": "cd67a7d1-30cb-4ed9-8059-553e475fe293",
   "metadata": {},
   "outputs": [
    {
     "data": {
      "text/plain": [
       "Text(0, 0.5, 'Milliseconds')"
      ]
     },
     "execution_count": 46,
     "metadata": {},
     "output_type": "execute_result"
    },
    {
     "data": {
      "image/png": "[encoded data removed]",
      "text/plain": [
       "<Figure size 640x480 with 1 Axes>"
      ]
     },
     "metadata": {},
     "output_type": "display_data"
    }
   ],
   "source": [
    "#Q32: what is faster, a loop or .apply?\n",
    "\n",
    "def laugh(x):\n",
    "    return \"ha\" * x\n",
    "\n",
    "\n",
    "amount_rows = [1000, 2000, 3000, 4000,5000, 6000, 7000, 8000,9000,10000,11000,12000,13000,14000,15000,16000,17000,18000,19000,20000]\n",
    "apply_times = {}\n",
    "loop_times = {}\n",
    "for val in amount_rows:\n",
    "    l_df = rand_df(val)\n",
    "    t0 = time.time()\n",
    "    result_apply = l_df[\"A\"].apply(laugh).tolist()\n",
    "    t1 = time.time()\n",
    "    apply_time = t1-t0 \n",
    "    apply_times[val] = apply_time*1000\n",
    "    t2 = time.time()\n",
    "    result_loop = []\n",
    "    for num in l_df[\"A\"]:\n",
    "        result_loop.append(laugh(num))\n",
    "    t3 = time.time()\n",
    "    loop_time = t3-t2\n",
    "    loop_times[val] = loop_time*1000\n",
    "    \n",
    "srs_loop = pd.Series(loop_times)\n",
    "srs_apply = pd.Series(apply_times)\n",
    "df_loop = pd.DataFrame(srs_loop, columns = [\"Loop\"])\n",
    "df_apply = pd.DataFrame(srs_apply, columns = [\"Apply\"])\n",
    "\n",
    "combined_loopply = pd.concat([df_loop, df_apply], axis=1, join='inner')\n",
    "result_loopply = combined_loopply.plot.line()\n",
    "result_loopply.set_xlabel(\"Rows\")\n",
    "result_loopply.set_ylabel(\"Milliseconds\")"
   ]
  }
 ],
 "metadata": {
  "kernelspec": {
   "display_name": "Python 3 (ipykernel)",
   "language": "python",
   "name": "python3"
  },
  "language_info": {
   "codemirror_mode": {
    "name": "ipython",
    "version": 3
   },
   "file_extension": ".py",
   "mimetype": "text/x-python",
   "name": "python",
   "nbconvert_exporter": "python",
   "pygments_lexer": "ipython3",
   "version": "3.10.4"
  }
 },
 "nbformat": 4,
 "nbformat_minor": 5
}
